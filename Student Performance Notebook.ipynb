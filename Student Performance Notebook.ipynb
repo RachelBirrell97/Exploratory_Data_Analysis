{
 "cells": [
  {
   "cell_type": "markdown",
   "id": "09eaba39",
   "metadata": {},
   "source": [
    "# Student Performance in Exams"
   ]
  },
  {
   "cell_type": "markdown",
   "id": "47d1bc51",
   "metadata": {},
   "source": [
    "The ‘Student Performance in Exams Report’ dataset is trying to investigate what factors influenced a group of American students’ math, reading and writing scores."
   ]
  },
  {
   "cell_type": "code",
   "execution_count": 32,
   "id": "e3fa80f1",
   "metadata": {},
   "outputs": [],
   "source": [
    "#import required packages\n",
    "\n",
    "import numpy as np\n",
    "import pandas as pd\n",
    "import seaborn as sns\n",
    "import ast, json\n",
    "from datetime import datetime\n",
    "import matplotlib.pyplot as plt\n",
    "%matplotlib inline"
   ]
  },
  {
   "cell_type": "code",
   "execution_count": 33,
   "id": "57979d1b",
   "metadata": {},
   "outputs": [
    {
     "data": {
      "text/html": [
       "<div>\n",
       "<style scoped>\n",
       "    .dataframe tbody tr th:only-of-type {\n",
       "        vertical-align: middle;\n",
       "    }\n",
       "\n",
       "    .dataframe tbody tr th {\n",
       "        vertical-align: top;\n",
       "    }\n",
       "\n",
       "    .dataframe thead th {\n",
       "        text-align: right;\n",
       "    }\n",
       "</style>\n",
       "<table border=\"1\" class=\"dataframe\">\n",
       "  <thead>\n",
       "    <tr style=\"text-align: right;\">\n",
       "      <th></th>\n",
       "      <th>gender</th>\n",
       "      <th>race/ethnicity</th>\n",
       "      <th>parental level of education</th>\n",
       "      <th>lunch</th>\n",
       "      <th>test preparation course</th>\n",
       "      <th>math score</th>\n",
       "      <th>reading score</th>\n",
       "      <th>writing score</th>\n",
       "    </tr>\n",
       "  </thead>\n",
       "  <tbody>\n",
       "    <tr>\n",
       "      <th>0</th>\n",
       "      <td>female</td>\n",
       "      <td>group B</td>\n",
       "      <td>bachelor's degree</td>\n",
       "      <td>standard</td>\n",
       "      <td>none</td>\n",
       "      <td>72</td>\n",
       "      <td>72</td>\n",
       "      <td>74</td>\n",
       "    </tr>\n",
       "    <tr>\n",
       "      <th>1</th>\n",
       "      <td>female</td>\n",
       "      <td>group C</td>\n",
       "      <td>some college</td>\n",
       "      <td>standard</td>\n",
       "      <td>completed</td>\n",
       "      <td>69</td>\n",
       "      <td>90</td>\n",
       "      <td>88</td>\n",
       "    </tr>\n",
       "    <tr>\n",
       "      <th>2</th>\n",
       "      <td>female</td>\n",
       "      <td>group B</td>\n",
       "      <td>master's degree</td>\n",
       "      <td>standard</td>\n",
       "      <td>none</td>\n",
       "      <td>90</td>\n",
       "      <td>95</td>\n",
       "      <td>93</td>\n",
       "    </tr>\n",
       "    <tr>\n",
       "      <th>3</th>\n",
       "      <td>male</td>\n",
       "      <td>group A</td>\n",
       "      <td>associate's degree</td>\n",
       "      <td>free/reduced</td>\n",
       "      <td>none</td>\n",
       "      <td>47</td>\n",
       "      <td>57</td>\n",
       "      <td>44</td>\n",
       "    </tr>\n",
       "    <tr>\n",
       "      <th>4</th>\n",
       "      <td>male</td>\n",
       "      <td>group C</td>\n",
       "      <td>some college</td>\n",
       "      <td>standard</td>\n",
       "      <td>none</td>\n",
       "      <td>76</td>\n",
       "      <td>78</td>\n",
       "      <td>75</td>\n",
       "    </tr>\n",
       "  </tbody>\n",
       "</table>\n",
       "</div>"
      ],
      "text/plain": [
       "   gender race/ethnicity parental level of education         lunch  \\\n",
       "0  female        group B           bachelor's degree      standard   \n",
       "1  female        group C                some college      standard   \n",
       "2  female        group B             master's degree      standard   \n",
       "3    male        group A          associate's degree  free/reduced   \n",
       "4    male        group C                some college      standard   \n",
       "\n",
       "  test preparation course  math score  reading score  writing score  \n",
       "0                    none          72             72             74  \n",
       "1               completed          69             90             88  \n",
       "2                    none          90             95             93  \n",
       "3                    none          47             57             44  \n",
       "4                    none          76             78             75  "
      ]
     },
     "execution_count": 33,
     "metadata": {},
     "output_type": "execute_result"
    }
   ],
   "source": [
    "#load the datatbase\n",
    "\n",
    "exams =  pd.read_csv(\"StudentsPerformance.csv\", sep=\",\")\n",
    "exams.head()"
   ]
  },
  {
   "cell_type": "markdown",
   "id": "9d54ef69",
   "metadata": {},
   "source": [
    "# Data Cleaning"
   ]
  },
  {
   "cell_type": "code",
   "execution_count": 34,
   "id": "8e019975",
   "metadata": {},
   "outputs": [],
   "source": [
    "#drop any duplicate rows\n",
    "\n",
    "exams = exams.drop_duplicates()"
   ]
  },
  {
   "cell_type": "code",
   "execution_count": 35,
   "id": "0ea3b6c3",
   "metadata": {},
   "outputs": [
    {
     "data": {
      "text/plain": [
       "gender                         object\n",
       "race/ethnicity                 object\n",
       "parental level of education    object\n",
       "lunch                          object\n",
       "test preparation course        object\n",
       "math score                      int64\n",
       "reading score                   int64\n",
       "writing score                   int64\n",
       "dtype: object"
      ]
     },
     "execution_count": 35,
     "metadata": {},
     "output_type": "execute_result"
    }
   ],
   "source": [
    "#check data types\n",
    "\n",
    "exams.dtypes"
   ]
  },
  {
   "cell_type": "code",
   "execution_count": 36,
   "id": "df49b5d1",
   "metadata": {},
   "outputs": [
    {
     "name": "stdout",
     "output_type": "stream",
     "text": [
      "There are 2 gender\n"
     ]
    },
    {
     "data": {
      "text/plain": [
       "array(['female', 'male'], dtype=object)"
      ]
     },
     "execution_count": 36,
     "metadata": {},
     "output_type": "execute_result"
    }
   ],
   "source": [
    "#visualise unique values of all columns with data type 'object'\n",
    "\n",
    "gender = exams['gender'].unique()\n",
    "print(f\"There are {len(gender)} gender\")\n",
    "gender"
   ]
  },
  {
   "cell_type": "code",
   "execution_count": 37,
   "id": "73e40880",
   "metadata": {},
   "outputs": [
    {
     "name": "stdout",
     "output_type": "stream",
     "text": [
      "There are 5 race/ethnicity\n"
     ]
    },
    {
     "data": {
      "text/plain": [
       "array(['group B', 'group C', 'group A', 'group D', 'group E'],\n",
       "      dtype=object)"
      ]
     },
     "execution_count": 37,
     "metadata": {},
     "output_type": "execute_result"
    }
   ],
   "source": [
    "race_ethnicity = exams['race/ethnicity'].unique()\n",
    "print(f\"There are {len(race_ethnicity)} race/ethnicity\")\n",
    "race_ethnicity"
   ]
  },
  {
   "cell_type": "code",
   "execution_count": 38,
   "id": "8cbb3048",
   "metadata": {},
   "outputs": [
    {
     "name": "stdout",
     "output_type": "stream",
     "text": [
      "There are 6 parental level of education\n"
     ]
    },
    {
     "data": {
      "text/plain": [
       "array([\"bachelor's degree\", 'some college', \"master's degree\",\n",
       "       \"associate's degree\", 'high school', 'some high school'],\n",
       "      dtype=object)"
      ]
     },
     "execution_count": 38,
     "metadata": {},
     "output_type": "execute_result"
    }
   ],
   "source": [
    "parent_education = exams['parental level of education'].unique()\n",
    "print(f\"There are {len(parent_education)} parental level of education\")\n",
    "parent_education"
   ]
  },
  {
   "cell_type": "code",
   "execution_count": 39,
   "id": "85f1f796",
   "metadata": {},
   "outputs": [
    {
     "name": "stdout",
     "output_type": "stream",
     "text": [
      "There are 2 lunch\n"
     ]
    },
    {
     "data": {
      "text/plain": [
       "array(['standard', 'free/reduced'], dtype=object)"
      ]
     },
     "execution_count": 39,
     "metadata": {},
     "output_type": "execute_result"
    }
   ],
   "source": [
    "lunch = exams['lunch'].unique()\n",
    "print(f\"There are {len(lunch)} lunch\")\n",
    "lunch"
   ]
  },
  {
   "cell_type": "code",
   "execution_count": 40,
   "id": "af8d332c",
   "metadata": {},
   "outputs": [
    {
     "name": "stdout",
     "output_type": "stream",
     "text": [
      "There are 2 test preparation course\n"
     ]
    },
    {
     "data": {
      "text/plain": [
       "array(['none', 'completed'], dtype=object)"
      ]
     },
     "execution_count": 40,
     "metadata": {},
     "output_type": "execute_result"
    }
   ],
   "source": [
    "test_prep = exams['test preparation course'].unique()\n",
    "print(f\"There are {len(test_prep)} test preparation course\")\n",
    "test_prep"
   ]
  },
  {
   "cell_type": "markdown",
   "id": "a3d269c6",
   "metadata": {},
   "source": [
    "# Missing Data"
   ]
  },
  {
   "cell_type": "code",
   "execution_count": 41,
   "id": "cc4b774b",
   "metadata": {},
   "outputs": [
    {
     "data": {
      "text/plain": [
       "gender                         0\n",
       "race/ethnicity                 0\n",
       "parental level of education    0\n",
       "lunch                          0\n",
       "test preparation course        0\n",
       "math score                     0\n",
       "reading score                  0\n",
       "writing score                  0\n",
       "dtype: int64"
      ]
     },
     "execution_count": 41,
     "metadata": {},
     "output_type": "execute_result"
    }
   ],
   "source": [
    "#view all missing data\n",
    "\n",
    "missing_values_count = df.isnull().sum()\n",
    "\n",
    "missing_values_count"
   ]
  },
  {
   "cell_type": "markdown",
   "id": "4593ef1d",
   "metadata": {},
   "source": [
    "# Data Stories and Visualisations"
   ]
  },
  {
   "cell_type": "markdown",
   "id": "23b9b17d",
   "metadata": {},
   "source": [
    "# 1. New Column"
   ]
  },
  {
   "cell_type": "code",
   "execution_count": 59,
   "id": "47f0abe2",
   "metadata": {},
   "outputs": [],
   "source": [
    "#used statology for help: https://www.statology.org/pandas-sum-specific-columns/#:~:text=How%20to%20Sum%20Specific%20Columns%20in%20Pandas%20%28With,practice%20with%20the%20following%20pandas%20DataFrame%3A%20More%20items\n",
    "cols = ['math score', 'reading score', 'writing score']\n",
    "\n",
    "exams['overall score'] = exams[cols].sum(axis=1)"
   ]
  },
  {
   "cell_type": "code",
   "execution_count": 60,
   "id": "af344256",
   "metadata": {},
   "outputs": [
    {
     "data": {
      "text/html": [
       "<div>\n",
       "<style scoped>\n",
       "    .dataframe tbody tr th:only-of-type {\n",
       "        vertical-align: middle;\n",
       "    }\n",
       "\n",
       "    .dataframe tbody tr th {\n",
       "        vertical-align: top;\n",
       "    }\n",
       "\n",
       "    .dataframe thead th {\n",
       "        text-align: right;\n",
       "    }\n",
       "</style>\n",
       "<table border=\"1\" class=\"dataframe\">\n",
       "  <thead>\n",
       "    <tr style=\"text-align: right;\">\n",
       "      <th></th>\n",
       "      <th>gender</th>\n",
       "      <th>race/ethnicity</th>\n",
       "      <th>parental level of education</th>\n",
       "      <th>lunch</th>\n",
       "      <th>test preparation course</th>\n",
       "      <th>math score</th>\n",
       "      <th>reading score</th>\n",
       "      <th>writing score</th>\n",
       "      <th>overall score</th>\n",
       "    </tr>\n",
       "  </thead>\n",
       "  <tbody>\n",
       "    <tr>\n",
       "      <th>0</th>\n",
       "      <td>female</td>\n",
       "      <td>group B</td>\n",
       "      <td>bachelor's degree</td>\n",
       "      <td>standard</td>\n",
       "      <td>none</td>\n",
       "      <td>72</td>\n",
       "      <td>72</td>\n",
       "      <td>74</td>\n",
       "      <td>218</td>\n",
       "    </tr>\n",
       "    <tr>\n",
       "      <th>1</th>\n",
       "      <td>female</td>\n",
       "      <td>group C</td>\n",
       "      <td>some college</td>\n",
       "      <td>standard</td>\n",
       "      <td>completed</td>\n",
       "      <td>69</td>\n",
       "      <td>90</td>\n",
       "      <td>88</td>\n",
       "      <td>247</td>\n",
       "    </tr>\n",
       "    <tr>\n",
       "      <th>2</th>\n",
       "      <td>female</td>\n",
       "      <td>group B</td>\n",
       "      <td>master's degree</td>\n",
       "      <td>standard</td>\n",
       "      <td>none</td>\n",
       "      <td>90</td>\n",
       "      <td>95</td>\n",
       "      <td>93</td>\n",
       "      <td>278</td>\n",
       "    </tr>\n",
       "    <tr>\n",
       "      <th>3</th>\n",
       "      <td>male</td>\n",
       "      <td>group A</td>\n",
       "      <td>associate's degree</td>\n",
       "      <td>free/reduced</td>\n",
       "      <td>none</td>\n",
       "      <td>47</td>\n",
       "      <td>57</td>\n",
       "      <td>44</td>\n",
       "      <td>148</td>\n",
       "    </tr>\n",
       "    <tr>\n",
       "      <th>4</th>\n",
       "      <td>male</td>\n",
       "      <td>group C</td>\n",
       "      <td>some college</td>\n",
       "      <td>standard</td>\n",
       "      <td>none</td>\n",
       "      <td>76</td>\n",
       "      <td>78</td>\n",
       "      <td>75</td>\n",
       "      <td>229</td>\n",
       "    </tr>\n",
       "  </tbody>\n",
       "</table>\n",
       "</div>"
      ],
      "text/plain": [
       "   gender race/ethnicity parental level of education         lunch  \\\n",
       "0  female        group B           bachelor's degree      standard   \n",
       "1  female        group C                some college      standard   \n",
       "2  female        group B             master's degree      standard   \n",
       "3    male        group A          associate's degree  free/reduced   \n",
       "4    male        group C                some college      standard   \n",
       "\n",
       "  test preparation course  math score  reading score  writing score  \\\n",
       "0                    none          72             72             74   \n",
       "1               completed          69             90             88   \n",
       "2                    none          90             95             93   \n",
       "3                    none          47             57             44   \n",
       "4                    none          76             78             75   \n",
       "\n",
       "   overall score  \n",
       "0            218  \n",
       "1            247  \n",
       "2            278  \n",
       "3            148  \n",
       "4            229  "
      ]
     },
     "execution_count": 60,
     "metadata": {},
     "output_type": "execute_result"
    }
   ],
   "source": [
    "exams.head()"
   ]
  },
  {
   "cell_type": "markdown",
   "id": "01b0a8a2",
   "metadata": {},
   "source": [
    "# 2. Gender"
   ]
  },
  {
   "cell_type": "code",
   "execution_count": 262,
   "id": "d4ab0384",
   "metadata": {},
   "outputs": [
    {
     "data": {
      "text/html": [
       "<div>\n",
       "<style scoped>\n",
       "    .dataframe tbody tr th:only-of-type {\n",
       "        vertical-align: middle;\n",
       "    }\n",
       "\n",
       "    .dataframe tbody tr th {\n",
       "        vertical-align: top;\n",
       "    }\n",
       "\n",
       "    .dataframe thead th {\n",
       "        text-align: right;\n",
       "    }\n",
       "</style>\n",
       "<table border=\"1\" class=\"dataframe\">\n",
       "  <thead>\n",
       "    <tr style=\"text-align: right;\">\n",
       "      <th></th>\n",
       "      <th>math score</th>\n",
       "      <th>reading score</th>\n",
       "      <th>writing score</th>\n",
       "      <th>overall score</th>\n",
       "    </tr>\n",
       "    <tr>\n",
       "      <th>gender</th>\n",
       "      <th></th>\n",
       "      <th></th>\n",
       "      <th></th>\n",
       "      <th></th>\n",
       "    </tr>\n",
       "  </thead>\n",
       "  <tbody>\n",
       "    <tr>\n",
       "      <th>female</th>\n",
       "      <td>64.0</td>\n",
       "      <td>73.0</td>\n",
       "      <td>72.0</td>\n",
       "      <td>209.0</td>\n",
       "    </tr>\n",
       "    <tr>\n",
       "      <th>male</th>\n",
       "      <td>69.0</td>\n",
       "      <td>65.0</td>\n",
       "      <td>63.0</td>\n",
       "      <td>198.0</td>\n",
       "    </tr>\n",
       "  </tbody>\n",
       "</table>\n",
       "</div>"
      ],
      "text/plain": [
       "        math score  reading score  writing score  overall score\n",
       "gender                                                         \n",
       "female        64.0           73.0           72.0          209.0\n",
       "male          69.0           65.0           63.0          198.0"
      ]
     },
     "execution_count": 262,
     "metadata": {},
     "output_type": "execute_result"
    }
   ],
   "source": [
    "#averages defined by column gender\n",
    "\n",
    "group_by_gender = exams.groupby(by=['gender'])\n",
    "data_avg = round(group_by_gender.mean(),0)\n",
    "data_avg"
   ]
  },
  {
   "cell_type": "markdown",
   "id": "b20bb24e",
   "metadata": {},
   "source": [
    "By comparing male and female students it can be shown that female students on average performed better than male students in reading and writing but male students scored higher in math."
   ]
  },
  {
   "cell_type": "code",
   "execution_count": 263,
   "id": "b14ac268",
   "metadata": {},
   "outputs": [
    {
     "data": {
      "text/plain": [
       "<AxesSubplot:xlabel='gender'>"
      ]
     },
     "execution_count": 263,
     "metadata": {},
     "output_type": "execute_result"
    },
    {
     "data": {
      "image/png": "[encoded data removed]",
      "text/plain": [
       "<Figure size 640x480 with 1 Axes>"
      ]
     },
     "metadata": {},
     "output_type": "display_data"
    }
   ],
   "source": [
    "gender = pd.DataFrame({'overall score': data_avg['overall score']})\n",
    "\n",
    "gender.plot(kind='bar')"
   ]
  },
  {
   "cell_type": "markdown",
   "id": "84cf6dcb",
   "metadata": {},
   "source": [
    "The bar chart shows that female students have a higher average overall score than male students.\n",
    "\n",
    "Gender will not be considered as an influencing factor on student’s score as the difference of the average overall score is so small."
   ]
  },
  {
   "cell_type": "markdown",
   "id": "a911816d",
   "metadata": {},
   "source": [
    "# 3.Lunch"
   ]
  },
  {
   "cell_type": "code",
   "execution_count": 266,
   "id": "597b3c9f",
   "metadata": {},
   "outputs": [
    {
     "data": {
      "text/html": [
       "<div>\n",
       "<style scoped>\n",
       "    .dataframe tbody tr th:only-of-type {\n",
       "        vertical-align: middle;\n",
       "    }\n",
       "\n",
       "    .dataframe tbody tr th {\n",
       "        vertical-align: top;\n",
       "    }\n",
       "\n",
       "    .dataframe thead th {\n",
       "        text-align: right;\n",
       "    }\n",
       "</style>\n",
       "<table border=\"1\" class=\"dataframe\">\n",
       "  <thead>\n",
       "    <tr style=\"text-align: right;\">\n",
       "      <th></th>\n",
       "      <th>math score</th>\n",
       "      <th>reading score</th>\n",
       "      <th>writing score</th>\n",
       "      <th>overall score</th>\n",
       "    </tr>\n",
       "    <tr>\n",
       "      <th>lunch</th>\n",
       "      <th></th>\n",
       "      <th></th>\n",
       "      <th></th>\n",
       "      <th></th>\n",
       "    </tr>\n",
       "  </thead>\n",
       "  <tbody>\n",
       "    <tr>\n",
       "      <th>free/reduced</th>\n",
       "      <td>59.0</td>\n",
       "      <td>65.0</td>\n",
       "      <td>63.0</td>\n",
       "      <td>187.0</td>\n",
       "    </tr>\n",
       "    <tr>\n",
       "      <th>standard</th>\n",
       "      <td>70.0</td>\n",
       "      <td>72.0</td>\n",
       "      <td>71.0</td>\n",
       "      <td>213.0</td>\n",
       "    </tr>\n",
       "  </tbody>\n",
       "</table>\n",
       "</div>"
      ],
      "text/plain": [
       "              math score  reading score  writing score  overall score\n",
       "lunch                                                                \n",
       "free/reduced        59.0           65.0           63.0          187.0\n",
       "standard            70.0           72.0           71.0          213.0"
      ]
     },
     "execution_count": 266,
     "metadata": {},
     "output_type": "execute_result"
    }
   ],
   "source": [
    "#averages defined by column lunch\n",
    "\n",
    "group_by_lunch = exams.groupby(by=['lunch'])\n",
    "data_avg = round(group_by_lunch.mean(),0)\n",
    "data_avg"
   ]
  },
  {
   "cell_type": "markdown",
   "id": "8a5be984",
   "metadata": {},
   "source": [
    "The average overall score of students on a free/reduced lunch is 183. The average overall score of students on a standard lunch is 213."
   ]
  },
  {
   "cell_type": "code",
   "execution_count": 271,
   "id": "e5e78da2",
   "metadata": {},
   "outputs": [
    {
     "data": {
      "text/plain": [
       "<AxesSubplot:title={'center':'lunch'}>"
      ]
     },
     "execution_count": 271,
     "metadata": {},
     "output_type": "execute_result"
    },
    {
     "data": {
      "image/png": "[encoded data removed]",
      "text/plain": [
       "<Figure size 640x480 with 1 Axes>"
      ]
     },
     "metadata": {},
     "output_type": "display_data"
    }
   ],
   "source": [
    "#pie chart to visualise data\n",
    "\n",
    "lunch = pd.DataFrame({'overall score': data_avg['overall score']})\n",
    "\n",
    "data = lunch.value_counts().plot(kind=\"pie\", title='lunch', ylabel='', labeldistance=None, radius=1.5, shadow=True, colors=colors, legend = True)\n",
    "data.legend(bbox_to_anchor=(1, 1.02), loc='upper left')\n",
    "data"
   ]
  },
  {
   "cell_type": "markdown",
   "id": "d1d8f2d0",
   "metadata": {},
   "source": [
    "The average overall score of students on a free/reduced lunch is lower. \n",
    "\n",
    "The pie chart indicates that lunch could be a defining factor which influences the score of students."
   ]
  },
  {
   "cell_type": "markdown",
   "id": "e22183bb",
   "metadata": {},
   "source": [
    "# 4. Test Preparation Course"
   ]
  },
  {
   "cell_type": "code",
   "execution_count": 272,
   "id": "2e467520",
   "metadata": {},
   "outputs": [
    {
     "data": {
      "text/html": [
       "<div>\n",
       "<style scoped>\n",
       "    .dataframe tbody tr th:only-of-type {\n",
       "        vertical-align: middle;\n",
       "    }\n",
       "\n",
       "    .dataframe tbody tr th {\n",
       "        vertical-align: top;\n",
       "    }\n",
       "\n",
       "    .dataframe thead th {\n",
       "        text-align: right;\n",
       "    }\n",
       "</style>\n",
       "<table border=\"1\" class=\"dataframe\">\n",
       "  <thead>\n",
       "    <tr style=\"text-align: right;\">\n",
       "      <th></th>\n",
       "      <th>math score</th>\n",
       "      <th>reading score</th>\n",
       "      <th>writing score</th>\n",
       "      <th>overall score</th>\n",
       "    </tr>\n",
       "    <tr>\n",
       "      <th>test preparation course</th>\n",
       "      <th></th>\n",
       "      <th></th>\n",
       "      <th></th>\n",
       "      <th></th>\n",
       "    </tr>\n",
       "  </thead>\n",
       "  <tbody>\n",
       "    <tr>\n",
       "      <th>completed</th>\n",
       "      <td>70.0</td>\n",
       "      <td>74.0</td>\n",
       "      <td>74.0</td>\n",
       "      <td>218.0</td>\n",
       "    </tr>\n",
       "    <tr>\n",
       "      <th>none</th>\n",
       "      <td>64.0</td>\n",
       "      <td>67.0</td>\n",
       "      <td>65.0</td>\n",
       "      <td>195.0</td>\n",
       "    </tr>\n",
       "  </tbody>\n",
       "</table>\n",
       "</div>"
      ],
      "text/plain": [
       "                         math score  reading score  writing score  \\\n",
       "test preparation course                                             \n",
       "completed                      70.0           74.0           74.0   \n",
       "none                           64.0           67.0           65.0   \n",
       "\n",
       "                         overall score  \n",
       "test preparation course                 \n",
       "completed                        218.0  \n",
       "none                             195.0  "
      ]
     },
     "execution_count": 272,
     "metadata": {},
     "output_type": "execute_result"
    }
   ],
   "source": [
    "#averages defined by column test preparation course column\n",
    "\n",
    "group_by_prep = exams.groupby(by=['test preparation course'])\n",
    "data_avg = round(group_by_prep.mean(),0)\n",
    "data_avg"
   ]
  },
  {
   "cell_type": "markdown",
   "id": "fe8ea380",
   "metadata": {},
   "source": [
    "Students who completed the course scored higher on average than students who did not complete the course."
   ]
  },
  {
   "cell_type": "code",
   "execution_count": 275,
   "id": "0b524a7b",
   "metadata": {},
   "outputs": [
    {
     "data": {
      "text/plain": [
       "<AxesSubplot:xlabel='test preparation course'>"
      ]
     },
     "execution_count": 275,
     "metadata": {},
     "output_type": "execute_result"
    },
    {
     "data": {
      "image/png": "[encoded data removed]",
      "text/plain": [
       "<Figure size 640x480 with 1 Axes>"
      ]
     },
     "metadata": {},
     "output_type": "display_data"
    }
   ],
   "source": [
    "prep = pd.DataFrame({'overall score': data_avg['overall score']})\n",
    "\n",
    "prep.plot(kind='bar')"
   ]
  },
  {
   "cell_type": "markdown",
   "id": "6a6abe37",
   "metadata": {},
   "source": [
    "The bar chart shows that by completing the test preparation course a student could achieve a higher score."
   ]
  },
  {
   "cell_type": "markdown",
   "id": "e86b3778",
   "metadata": {},
   "source": [
    "# 5. Race/Ethnicity"
   ]
  },
  {
   "cell_type": "code",
   "execution_count": 72,
   "id": "8bf20309",
   "metadata": {},
   "outputs": [
    {
     "data": {
      "text/html": [
       "<div>\n",
       "<style scoped>\n",
       "    .dataframe tbody tr th:only-of-type {\n",
       "        vertical-align: middle;\n",
       "    }\n",
       "\n",
       "    .dataframe tbody tr th {\n",
       "        vertical-align: top;\n",
       "    }\n",
       "\n",
       "    .dataframe thead th {\n",
       "        text-align: right;\n",
       "    }\n",
       "</style>\n",
       "<table border=\"1\" class=\"dataframe\">\n",
       "  <thead>\n",
       "    <tr style=\"text-align: right;\">\n",
       "      <th></th>\n",
       "      <th>math score</th>\n",
       "      <th>reading score</th>\n",
       "      <th>writing score</th>\n",
       "      <th>overall score</th>\n",
       "    </tr>\n",
       "    <tr>\n",
       "      <th>race/ethnicity</th>\n",
       "      <th></th>\n",
       "      <th></th>\n",
       "      <th></th>\n",
       "      <th></th>\n",
       "    </tr>\n",
       "  </thead>\n",
       "  <tbody>\n",
       "    <tr>\n",
       "      <th>group A</th>\n",
       "      <td>62.0</td>\n",
       "      <td>65.0</td>\n",
       "      <td>63.0</td>\n",
       "      <td>189.0</td>\n",
       "    </tr>\n",
       "    <tr>\n",
       "      <th>group B</th>\n",
       "      <td>63.0</td>\n",
       "      <td>67.0</td>\n",
       "      <td>66.0</td>\n",
       "      <td>196.0</td>\n",
       "    </tr>\n",
       "    <tr>\n",
       "      <th>group C</th>\n",
       "      <td>64.0</td>\n",
       "      <td>69.0</td>\n",
       "      <td>68.0</td>\n",
       "      <td>201.0</td>\n",
       "    </tr>\n",
       "    <tr>\n",
       "      <th>group D</th>\n",
       "      <td>67.0</td>\n",
       "      <td>70.0</td>\n",
       "      <td>70.0</td>\n",
       "      <td>208.0</td>\n",
       "    </tr>\n",
       "    <tr>\n",
       "      <th>group E</th>\n",
       "      <td>74.0</td>\n",
       "      <td>73.0</td>\n",
       "      <td>71.0</td>\n",
       "      <td>218.0</td>\n",
       "    </tr>\n",
       "  </tbody>\n",
       "</table>\n",
       "</div>"
      ],
      "text/plain": [
       "                math score  reading score  writing score  overall score\n",
       "race/ethnicity                                                         \n",
       "group A               62.0           65.0           63.0          189.0\n",
       "group B               63.0           67.0           66.0          196.0\n",
       "group C               64.0           69.0           68.0          201.0\n",
       "group D               67.0           70.0           70.0          208.0\n",
       "group E               74.0           73.0           71.0          218.0"
      ]
     },
     "execution_count": 72,
     "metadata": {},
     "output_type": "execute_result"
    }
   ],
   "source": [
    "#average scores of race/ethnicity groups\n",
    "\n",
    "group_by_race = exams.groupby(by=['race/ethnicity'])\n",
    "data_avg = round(group_by_race.mean(),0)\n",
    "data_avg"
   ]
  },
  {
   "cell_type": "code",
   "execution_count": 80,
   "id": "f45aa8f9",
   "metadata": {},
   "outputs": [
    {
     "data": {
      "text/plain": [
       "<AxesSubplot:xlabel='race/ethnicity'>"
      ]
     },
     "execution_count": 80,
     "metadata": {},
     "output_type": "execute_result"
    },
    {
     "data": {
      "image/png": "[encoded data removed]",
      "text/plain": [
       "<Figure size 640x480 with 1 Axes>"
      ]
     },
     "metadata": {},
     "output_type": "display_data"
    }
   ],
   "source": [
    "#line graph of average overall score of each race/ethnicity group\n",
    "\n",
    "overall_score = pd.DataFrame({'overall score': data_avg['overall score']})\n",
    "\n",
    "overall_score.plot(kind='line')"
   ]
  },
  {
   "cell_type": "markdown",
   "id": "4bccadd9",
   "metadata": {},
   "source": [
    "The line graph highlights that group A had the lowest score, and group E had the highest score.\n",
    "\n",
    "Going forward, group A and group E will be compared to decipher which factor influenced a student’s score the most."
   ]
  },
  {
   "cell_type": "markdown",
   "id": "63b24242",
   "metadata": {},
   "source": [
    "# 6. Group A"
   ]
  },
  {
   "cell_type": "code",
   "execution_count": 142,
   "id": "271b1ab5",
   "metadata": {},
   "outputs": [
    {
     "name": "stdout",
     "output_type": "stream",
     "text": [
      "Number of students in group A: 89\n"
     ]
    }
   ],
   "source": [
    "#filter database to only students in group A\n",
    "\n",
    "group_A = exams[(exams['race/ethnicity']== \"group A\")]\n",
    "#group_A\n",
    "print(f\"Number of students in group A: {len(group_A.axes[0])}\")\n"
   ]
  },
  {
   "cell_type": "code",
   "execution_count": 144,
   "id": "f28922e1",
   "metadata": {},
   "outputs": [],
   "source": [
    "#filter data further to only show group A students whose parents education level is high school\n",
    "\n",
    "group_A_highschool = exams[(exams['race/ethnicity']== \"group A\")&(exams['parental level of education'] == \"high school\")]"
   ]
  },
  {
   "cell_type": "code",
   "execution_count": 145,
   "id": "361b9296",
   "metadata": {},
   "outputs": [
    {
     "name": "stdout",
     "output_type": "stream",
     "text": [
      "Number of students in group A and whose parental level of education is high school: 18\n"
     ]
    }
   ],
   "source": [
    "#number of students in this group\n",
    "\n",
    "print(f\"Number of students in group A and whose parental level of education is high school: {len(group_A_highschool.axes[0])}\")"
   ]
  },
  {
   "cell_type": "code",
   "execution_count": 146,
   "id": "141d350a",
   "metadata": {},
   "outputs": [
    {
     "data": {
      "text/html": [
       "<div>\n",
       "<style scoped>\n",
       "    .dataframe tbody tr th:only-of-type {\n",
       "        vertical-align: middle;\n",
       "    }\n",
       "\n",
       "    .dataframe tbody tr th {\n",
       "        vertical-align: top;\n",
       "    }\n",
       "\n",
       "    .dataframe thead th {\n",
       "        text-align: right;\n",
       "    }\n",
       "</style>\n",
       "<table border=\"1\" class=\"dataframe\">\n",
       "  <thead>\n",
       "    <tr style=\"text-align: right;\">\n",
       "      <th></th>\n",
       "      <th>math score</th>\n",
       "      <th>reading score</th>\n",
       "      <th>writing score</th>\n",
       "      <th>overall score: highschool</th>\n",
       "    </tr>\n",
       "    <tr>\n",
       "      <th>race/ethnicity</th>\n",
       "      <th></th>\n",
       "      <th></th>\n",
       "      <th></th>\n",
       "      <th></th>\n",
       "    </tr>\n",
       "  </thead>\n",
       "  <tbody>\n",
       "    <tr>\n",
       "      <th>group A</th>\n",
       "      <td>60.0</td>\n",
       "      <td>63.0</td>\n",
       "      <td>60.0</td>\n",
       "      <td>184.0</td>\n",
       "    </tr>\n",
       "  </tbody>\n",
       "</table>\n",
       "</div>"
      ],
      "text/plain": [
       "                math score  reading score  writing score  \\\n",
       "race/ethnicity                                             \n",
       "group A               60.0           63.0           60.0   \n",
       "\n",
       "                overall score: highschool  \n",
       "race/ethnicity                             \n",
       "group A                             184.0  "
      ]
     },
     "execution_count": 146,
     "metadata": {},
     "output_type": "execute_result"
    }
   ],
   "source": [
    "#this group's average scores\n",
    "\n",
    "group_by = group_A_highschool.groupby(by=['race/ethnicity'])\n",
    "data_avg_highschool = round(group_by.mean(),0)\n",
    "\n",
    "#changed column name to identify easier: https://www.geeksforgeeks.org/how-to-rename-columns-in-pandas-dataframe/ \n",
    "\n",
    "data_avg_highschool.rename(columns = {'overall score':'overall score: highschool'}, inplace = True)\n",
    "data_avg_highschool"
   ]
  },
  {
   "cell_type": "markdown",
   "id": "1605842d",
   "metadata": {},
   "source": [
    "\n",
    "The average overall score for students whose parental education level is high school is 184.\n"
   ]
  },
  {
   "cell_type": "code",
   "execution_count": 147,
   "id": "4c8e7f45",
   "metadata": {},
   "outputs": [],
   "source": [
    "#filter data further to only show group A students whose parents education level is some high school\n",
    "\n",
    "group_A_Shighschool = exams[(exams['race/ethnicity']== \"group A\")&(exams['parental level of education'] == \"some high school\")]"
   ]
  },
  {
   "cell_type": "code",
   "execution_count": 148,
   "id": "cb77b005",
   "metadata": {},
   "outputs": [
    {
     "name": "stdout",
     "output_type": "stream",
     "text": [
      "Number of students in group A and whose parental level of education is some high school: 24\n"
     ]
    }
   ],
   "source": [
    "#number of students in this group\n",
    "\n",
    "print(f\"Number of students in group A and whose parental level of education is some high school: {len(group_A_Shighschool.axes[0])}\")"
   ]
  },
  {
   "cell_type": "code",
   "execution_count": 149,
   "id": "00c55fb4",
   "metadata": {},
   "outputs": [
    {
     "data": {
      "text/html": [
       "<div>\n",
       "<style scoped>\n",
       "    .dataframe tbody tr th:only-of-type {\n",
       "        vertical-align: middle;\n",
       "    }\n",
       "\n",
       "    .dataframe tbody tr th {\n",
       "        vertical-align: top;\n",
       "    }\n",
       "\n",
       "    .dataframe thead th {\n",
       "        text-align: right;\n",
       "    }\n",
       "</style>\n",
       "<table border=\"1\" class=\"dataframe\">\n",
       "  <thead>\n",
       "    <tr style=\"text-align: right;\">\n",
       "      <th></th>\n",
       "      <th>math score</th>\n",
       "      <th>reading score</th>\n",
       "      <th>writing score</th>\n",
       "      <th>overall score: some highschool</th>\n",
       "    </tr>\n",
       "    <tr>\n",
       "      <th>race/ethnicity</th>\n",
       "      <th></th>\n",
       "      <th></th>\n",
       "      <th></th>\n",
       "      <th></th>\n",
       "    </tr>\n",
       "  </thead>\n",
       "  <tbody>\n",
       "    <tr>\n",
       "      <th>group A</th>\n",
       "      <td>59.0</td>\n",
       "      <td>62.0</td>\n",
       "      <td>59.0</td>\n",
       "      <td>180.0</td>\n",
       "    </tr>\n",
       "  </tbody>\n",
       "</table>\n",
       "</div>"
      ],
      "text/plain": [
       "                math score  reading score  writing score  \\\n",
       "race/ethnicity                                             \n",
       "group A               59.0           62.0           59.0   \n",
       "\n",
       "                overall score: some highschool  \n",
       "race/ethnicity                                  \n",
       "group A                                  180.0  "
      ]
     },
     "execution_count": 149,
     "metadata": {},
     "output_type": "execute_result"
    }
   ],
   "source": [
    "#this group's average scores\n",
    "\n",
    "group_by = group_A_Shighschool.groupby(by=['race/ethnicity'])\n",
    "data_avg_Shighschool = round(group_by.mean(),0)\n",
    "data_avg_Shighschool.rename(columns = {'overall score':'overall score: some highschool'}, inplace = True)\n",
    "data_avg_Shighschool"
   ]
  },
  {
   "cell_type": "markdown",
   "id": "b35a9937",
   "metadata": {},
   "source": [
    "The average overall score for students whose parental education level is some high school is 180."
   ]
  },
  {
   "cell_type": "code",
   "execution_count": 150,
   "id": "5ab81a64",
   "metadata": {},
   "outputs": [],
   "source": [
    "#filter data further to only show group A students whose parents education level is some college\n",
    "\n",
    "group_A_Scollege = exams[(exams['race/ethnicity']== \"group A\")&(exams['parental level of education'] == \"some college\")]"
   ]
  },
  {
   "cell_type": "code",
   "execution_count": 151,
   "id": "9790a1d5",
   "metadata": {},
   "outputs": [
    {
     "name": "stdout",
     "output_type": "stream",
     "text": [
      "Number of students in group A and whose parental level of education is some college: 18\n"
     ]
    }
   ],
   "source": [
    "#number of students in this group\n",
    "\n",
    "print(f\"Number of students in group A and whose parental level of education is some college: {len(group_A_Scollege.axes[0])}\")"
   ]
  },
  {
   "cell_type": "code",
   "execution_count": 152,
   "id": "a777192d",
   "metadata": {},
   "outputs": [
    {
     "data": {
      "text/html": [
       "<div>\n",
       "<style scoped>\n",
       "    .dataframe tbody tr th:only-of-type {\n",
       "        vertical-align: middle;\n",
       "    }\n",
       "\n",
       "    .dataframe tbody tr th {\n",
       "        vertical-align: top;\n",
       "    }\n",
       "\n",
       "    .dataframe thead th {\n",
       "        text-align: right;\n",
       "    }\n",
       "</style>\n",
       "<table border=\"1\" class=\"dataframe\">\n",
       "  <thead>\n",
       "    <tr style=\"text-align: right;\">\n",
       "      <th></th>\n",
       "      <th>math score</th>\n",
       "      <th>reading score</th>\n",
       "      <th>writing score</th>\n",
       "      <th>overall score: some college</th>\n",
       "    </tr>\n",
       "    <tr>\n",
       "      <th>race/ethnicity</th>\n",
       "      <th></th>\n",
       "      <th></th>\n",
       "      <th></th>\n",
       "      <th></th>\n",
       "    </tr>\n",
       "  </thead>\n",
       "  <tbody>\n",
       "    <tr>\n",
       "      <th>group A</th>\n",
       "      <td>64.0</td>\n",
       "      <td>66.0</td>\n",
       "      <td>65.0</td>\n",
       "      <td>195.0</td>\n",
       "    </tr>\n",
       "  </tbody>\n",
       "</table>\n",
       "</div>"
      ],
      "text/plain": [
       "                math score  reading score  writing score  \\\n",
       "race/ethnicity                                             \n",
       "group A               64.0           66.0           65.0   \n",
       "\n",
       "                overall score: some college  \n",
       "race/ethnicity                               \n",
       "group A                               195.0  "
      ]
     },
     "execution_count": 152,
     "metadata": {},
     "output_type": "execute_result"
    }
   ],
   "source": [
    "#this group's average scores\n",
    "\n",
    "group_by = group_A_Scollege.groupby(by=['race/ethnicity'])\n",
    "data_avg_Scollege = round(group_by.mean(),0)\n",
    "data_avg_Scollege.rename(columns = {'overall score':'overall score: some college'}, inplace = True)\n",
    "data_avg_Scollege"
   ]
  },
  {
   "cell_type": "markdown",
   "id": "32a03c46",
   "metadata": {},
   "source": [
    "\n",
    "The average overall score for students whose parental education level is some college is 195.\n"
   ]
  },
  {
   "cell_type": "code",
   "execution_count": 153,
   "id": "095cd4ba",
   "metadata": {},
   "outputs": [],
   "source": [
    "#filter data further to only show group A students whose parents education level is college\n",
    "\n",
    "group_A_college = exams[(exams['race/ethnicity']== \"group A\")&(exams['parental level of education'] == \"associate's degree\")|\n",
    "                       (exams['race/ethnicity']== \"group A\")&(exams['parental level of education'] == \"master's degree\")|\n",
    "                        (exams['race/ethnicity']== \"group A\")&(exams['parental level of education'] == \"bachelor's degree\")]"
   ]
  },
  {
   "cell_type": "code",
   "execution_count": 154,
   "id": "587420db",
   "metadata": {},
   "outputs": [
    {
     "name": "stdout",
     "output_type": "stream",
     "text": [
      "Number of students in group A and whose parental level of education is college: 29\n"
     ]
    }
   ],
   "source": [
    "#number of students in this group\n",
    "\n",
    "print(f\"Number of students in group A and whose parental level of education is college: {len(group_A_college.axes[0])}\")"
   ]
  },
  {
   "cell_type": "code",
   "execution_count": 155,
   "id": "ed3f66d5",
   "metadata": {},
   "outputs": [
    {
     "data": {
      "text/html": [
       "<div>\n",
       "<style scoped>\n",
       "    .dataframe tbody tr th:only-of-type {\n",
       "        vertical-align: middle;\n",
       "    }\n",
       "\n",
       "    .dataframe tbody tr th {\n",
       "        vertical-align: top;\n",
       "    }\n",
       "\n",
       "    .dataframe thead th {\n",
       "        text-align: right;\n",
       "    }\n",
       "</style>\n",
       "<table border=\"1\" class=\"dataframe\">\n",
       "  <thead>\n",
       "    <tr style=\"text-align: right;\">\n",
       "      <th></th>\n",
       "      <th>math score</th>\n",
       "      <th>reading score</th>\n",
       "      <th>writing score</th>\n",
       "      <th>overall score: college</th>\n",
       "    </tr>\n",
       "    <tr>\n",
       "      <th>race/ethnicity</th>\n",
       "      <th></th>\n",
       "      <th></th>\n",
       "      <th></th>\n",
       "      <th></th>\n",
       "    </tr>\n",
       "  </thead>\n",
       "  <tbody>\n",
       "    <tr>\n",
       "      <th>group A</th>\n",
       "      <td>63.0</td>\n",
       "      <td>67.0</td>\n",
       "      <td>66.0</td>\n",
       "      <td>196.0</td>\n",
       "    </tr>\n",
       "  </tbody>\n",
       "</table>\n",
       "</div>"
      ],
      "text/plain": [
       "                math score  reading score  writing score  \\\n",
       "race/ethnicity                                             \n",
       "group A               63.0           67.0           66.0   \n",
       "\n",
       "                overall score: college  \n",
       "race/ethnicity                          \n",
       "group A                          196.0  "
      ]
     },
     "execution_count": 155,
     "metadata": {},
     "output_type": "execute_result"
    }
   ],
   "source": [
    "#this group's average scores\n",
    "\n",
    "group_by = group_A_college.groupby(by=['race/ethnicity'])\n",
    "data_avg_college = round(group_by.mean(),0)\n",
    "data_avg_college.rename(columns = {'overall score':'overall score: college'}, inplace = True)\n",
    "data_avg_college"
   ]
  },
  {
   "cell_type": "code",
   "execution_count": null,
   "id": "42ce4990",
   "metadata": {},
   "outputs": [],
   "source": [
    "The average overall score for students whose parental education level is college is 196."
   ]
  },
  {
   "cell_type": "code",
   "execution_count": 163,
   "id": "bd1a3996",
   "metadata": {},
   "outputs": [
    {
     "data": {
      "text/plain": [
       "<AxesSubplot:>"
      ]
     },
     "execution_count": 163,
     "metadata": {},
     "output_type": "execute_result"
    },
    {
     "data": {
      "image/png": "[encoded data removed]",
      "text/plain": [
       "<Figure size 640x480 with 1 Axes>"
      ]
     },
     "metadata": {},
     "output_type": "display_data"
    }
   ],
   "source": [
    "#created temp database to create a chart which shows each education level's overall score in group A\n",
    "\n",
    "highschool = data_avg_highschool['overall score: highschool']\n",
    "some_highschool = data_avg_Shighschool['overall score: some highschool']\n",
    "some_college = data_avg_Scollege['overall score: some college']\n",
    "college = data_avg_college['overall score: college']\n",
    "\n",
    "temp_df = (some_highschool, highschool, some_college, college)\n",
    "temp_df = pd.DataFrame(temp_df)\n",
    "temp_df.plot(kind='bar')"
   ]
  },
  {
   "cell_type": "markdown",
   "id": "0a7edf79",
   "metadata": {},
   "source": [
    "Bar chart shows that within group A, the higher the parents’ education the higher the student’s overall score."
   ]
  },
  {
   "cell_type": "code",
   "execution_count": 169,
   "id": "d5aca3fe",
   "metadata": {},
   "outputs": [],
   "source": [
    "#filter data to only show those in group A with lunch options\n",
    "\n",
    "group_A = exams[(exams['race/ethnicity']== \"group A\")&(exams['lunch'] == 'free/reduced')|\n",
    "               (exams['race/ethnicity']== \"group A\")&(exams['lunch'] == 'standard')]\n"
   ]
  },
  {
   "cell_type": "code",
   "execution_count": 256,
   "id": "0f84d6f7",
   "metadata": {},
   "outputs": [
    {
     "data": {
      "image/png": "[encoded data removed]",
      "text/plain": [
       "<Figure size 600x300 with 2 Axes>"
      ]
     },
     "metadata": {},
     "output_type": "display_data"
    }
   ],
   "source": [
    "#multi-plot grid comparing overall score of those who in group A who recieved free/reduced or standard lunches\n",
    "\n",
    "fg=sns.FacetGrid(group_A, col ='lunch')\n",
    "fg.map_dataframe(sns.histplot,'overall score')\n",
    "plt.show()\n",
    "plt.close()"
   ]
  },
  {
   "cell_type": "markdown",
   "id": "7cd9372d",
   "metadata": {},
   "source": [
    "A multi-plot grid comparing students lunch status shows that students with a standard lunch scored higher overall than\n",
    "a student with a free/reduced lunch."
   ]
  },
  {
   "cell_type": "code",
   "execution_count": null,
   "id": "9912f100",
   "metadata": {},
   "outputs": [],
   "source": [
    "#filter data to only show those in group A with test preparation course\n",
    "\n",
    "group_A = exams[(exams['race/ethnicity']== \"group A\")&(exams['test preparation course'] == 'none')|\n",
    "               (exams['race/ethnicity']== \"group A\")&(exams['test preparation course'] == 'completed')]"
   ]
  },
  {
   "cell_type": "code",
   "execution_count": 179,
   "id": "1cf4cb12",
   "metadata": {},
   "outputs": [
    {
     "data": {
      "image/png": "[encoded data removed]",
      "text/plain": [
       "<Figure size 600x300 with 2 Axes>"
      ]
     },
     "metadata": {},
     "output_type": "display_data"
    }
   ],
   "source": [
    "#multi-plot grid comparing overall score of those in group A who did and did not complete the test preparation course\n",
    "\n",
    "fg=sns.FacetGrid(group_A, col ='test preparation course')\n",
    "fg.map_dataframe(sns.histplot,'overall score')\n",
    "plt.show()\n",
    "plt.close()"
   ]
  },
  {
   "cell_type": "markdown",
   "id": "14a6ca38",
   "metadata": {},
   "source": [
    "A multi-plot grid shows that students were more likely to score over 250 if they completed the test preparation course and that students were more likely to score under 150 if they did not complete course. However, between the scores 150 and 250 it doesn’t seem to have made too much of a difference."
   ]
  },
  {
   "cell_type": "code",
   "execution_count": 277,
   "id": "000df8a9",
   "metadata": {},
   "outputs": [
    {
     "data": {
      "text/html": [
       "<div>\n",
       "<style scoped>\n",
       "    .dataframe tbody tr th:only-of-type {\n",
       "        vertical-align: middle;\n",
       "    }\n",
       "\n",
       "    .dataframe tbody tr th {\n",
       "        vertical-align: top;\n",
       "    }\n",
       "\n",
       "    .dataframe thead th {\n",
       "        text-align: right;\n",
       "    }\n",
       "</style>\n",
       "<table border=\"1\" class=\"dataframe\">\n",
       "  <thead>\n",
       "    <tr style=\"text-align: right;\">\n",
       "      <th></th>\n",
       "      <th>gender</th>\n",
       "      <th>race/ethnicity</th>\n",
       "      <th>parental level of education</th>\n",
       "      <th>lunch</th>\n",
       "      <th>test preparation course</th>\n",
       "      <th>math score</th>\n",
       "      <th>reading score</th>\n",
       "      <th>writing score</th>\n",
       "      <th>overall score</th>\n",
       "    </tr>\n",
       "  </thead>\n",
       "  <tbody>\n",
       "    <tr>\n",
       "      <th>61</th>\n",
       "      <td>male</td>\n",
       "      <td>group A</td>\n",
       "      <td>some high school</td>\n",
       "      <td>free/reduced</td>\n",
       "      <td>none</td>\n",
       "      <td>39</td>\n",
       "      <td>39</td>\n",
       "      <td>34</td>\n",
       "      <td>112</td>\n",
       "    </tr>\n",
       "    <tr>\n",
       "      <th>228</th>\n",
       "      <td>male</td>\n",
       "      <td>group A</td>\n",
       "      <td>some high school</td>\n",
       "      <td>free/reduced</td>\n",
       "      <td>none</td>\n",
       "      <td>68</td>\n",
       "      <td>72</td>\n",
       "      <td>64</td>\n",
       "      <td>204</td>\n",
       "    </tr>\n",
       "    <tr>\n",
       "      <th>368</th>\n",
       "      <td>female</td>\n",
       "      <td>group A</td>\n",
       "      <td>some high school</td>\n",
       "      <td>free/reduced</td>\n",
       "      <td>none</td>\n",
       "      <td>44</td>\n",
       "      <td>64</td>\n",
       "      <td>58</td>\n",
       "      <td>166</td>\n",
       "    </tr>\n",
       "    <tr>\n",
       "      <th>384</th>\n",
       "      <td>female</td>\n",
       "      <td>group A</td>\n",
       "      <td>some high school</td>\n",
       "      <td>free/reduced</td>\n",
       "      <td>none</td>\n",
       "      <td>38</td>\n",
       "      <td>43</td>\n",
       "      <td>43</td>\n",
       "      <td>124</td>\n",
       "    </tr>\n",
       "    <tr>\n",
       "      <th>428</th>\n",
       "      <td>male</td>\n",
       "      <td>group A</td>\n",
       "      <td>some high school</td>\n",
       "      <td>free/reduced</td>\n",
       "      <td>none</td>\n",
       "      <td>65</td>\n",
       "      <td>59</td>\n",
       "      <td>53</td>\n",
       "      <td>177</td>\n",
       "    </tr>\n",
       "    <tr>\n",
       "      <th>433</th>\n",
       "      <td>female</td>\n",
       "      <td>group A</td>\n",
       "      <td>some high school</td>\n",
       "      <td>free/reduced</td>\n",
       "      <td>none</td>\n",
       "      <td>47</td>\n",
       "      <td>59</td>\n",
       "      <td>50</td>\n",
       "      <td>156</td>\n",
       "    </tr>\n",
       "    <tr>\n",
       "      <th>442</th>\n",
       "      <td>female</td>\n",
       "      <td>group A</td>\n",
       "      <td>some high school</td>\n",
       "      <td>free/reduced</td>\n",
       "      <td>none</td>\n",
       "      <td>59</td>\n",
       "      <td>73</td>\n",
       "      <td>69</td>\n",
       "      <td>201</td>\n",
       "    </tr>\n",
       "    <tr>\n",
       "      <th>444</th>\n",
       "      <td>male</td>\n",
       "      <td>group A</td>\n",
       "      <td>some high school</td>\n",
       "      <td>free/reduced</td>\n",
       "      <td>none</td>\n",
       "      <td>79</td>\n",
       "      <td>82</td>\n",
       "      <td>73</td>\n",
       "      <td>234</td>\n",
       "    </tr>\n",
       "    <tr>\n",
       "      <th>731</th>\n",
       "      <td>male</td>\n",
       "      <td>group A</td>\n",
       "      <td>some high school</td>\n",
       "      <td>free/reduced</td>\n",
       "      <td>none</td>\n",
       "      <td>55</td>\n",
       "      <td>46</td>\n",
       "      <td>43</td>\n",
       "      <td>144</td>\n",
       "    </tr>\n",
       "    <tr>\n",
       "      <th>988</th>\n",
       "      <td>female</td>\n",
       "      <td>group A</td>\n",
       "      <td>some high school</td>\n",
       "      <td>free/reduced</td>\n",
       "      <td>none</td>\n",
       "      <td>44</td>\n",
       "      <td>45</td>\n",
       "      <td>45</td>\n",
       "      <td>134</td>\n",
       "    </tr>\n",
       "  </tbody>\n",
       "</table>\n",
       "</div>"
      ],
      "text/plain": [
       "     gender race/ethnicity parental level of education         lunch  \\\n",
       "61     male        group A            some high school  free/reduced   \n",
       "228    male        group A            some high school  free/reduced   \n",
       "368  female        group A            some high school  free/reduced   \n",
       "384  female        group A            some high school  free/reduced   \n",
       "428    male        group A            some high school  free/reduced   \n",
       "433  female        group A            some high school  free/reduced   \n",
       "442  female        group A            some high school  free/reduced   \n",
       "444    male        group A            some high school  free/reduced   \n",
       "731    male        group A            some high school  free/reduced   \n",
       "988  female        group A            some high school  free/reduced   \n",
       "\n",
       "    test preparation course  math score  reading score  writing score  \\\n",
       "61                     none          39             39             34   \n",
       "228                    none          68             72             64   \n",
       "368                    none          44             64             58   \n",
       "384                    none          38             43             43   \n",
       "428                    none          65             59             53   \n",
       "433                    none          47             59             50   \n",
       "442                    none          59             73             69   \n",
       "444                    none          79             82             73   \n",
       "731                    none          55             46             43   \n",
       "988                    none          44             45             45   \n",
       "\n",
       "     overall score  \n",
       "61             112  \n",
       "228            204  \n",
       "368            166  \n",
       "384            124  \n",
       "428            177  \n",
       "433            156  \n",
       "442            201  \n",
       "444            234  \n",
       "731            144  \n",
       "988            134  "
      ]
     },
     "execution_count": 277,
     "metadata": {},
     "output_type": "execute_result"
    }
   ],
   "source": [
    "#filter to show student's with all disadvantageous factors\n",
    "\n",
    "category_A = exams[(exams['race/ethnicity']== \"group A\")&(exams['parental level of education']== \"some high school\")&\n",
    "                     (exams['test preparation course'] == 'none')&(exams['lunch'] == 'free/reduced')]\n",
    "category_A"
   ]
  },
  {
   "cell_type": "code",
   "execution_count": 278,
   "id": "ee7c1324",
   "metadata": {},
   "outputs": [
    {
     "data": {
      "text/html": [
       "<div>\n",
       "<style scoped>\n",
       "    .dataframe tbody tr th:only-of-type {\n",
       "        vertical-align: middle;\n",
       "    }\n",
       "\n",
       "    .dataframe tbody tr th {\n",
       "        vertical-align: top;\n",
       "    }\n",
       "\n",
       "    .dataframe thead th {\n",
       "        text-align: right;\n",
       "    }\n",
       "</style>\n",
       "<table border=\"1\" class=\"dataframe\">\n",
       "  <thead>\n",
       "    <tr style=\"text-align: right;\">\n",
       "      <th></th>\n",
       "      <th>gender</th>\n",
       "      <th>race/ethnicity</th>\n",
       "      <th>parental level of education</th>\n",
       "      <th>lunch</th>\n",
       "      <th>test preparation course</th>\n",
       "      <th>math score</th>\n",
       "      <th>reading score</th>\n",
       "      <th>writing score</th>\n",
       "      <th>overall score</th>\n",
       "    </tr>\n",
       "  </thead>\n",
       "  <tbody>\n",
       "    <tr>\n",
       "      <th>46</th>\n",
       "      <td>female</td>\n",
       "      <td>group A</td>\n",
       "      <td>associate's degree</td>\n",
       "      <td>standard</td>\n",
       "      <td>completed</td>\n",
       "      <td>55</td>\n",
       "      <td>65</td>\n",
       "      <td>62</td>\n",
       "      <td>182</td>\n",
       "    </tr>\n",
       "    <tr>\n",
       "      <th>77</th>\n",
       "      <td>male</td>\n",
       "      <td>group A</td>\n",
       "      <td>bachelor's degree</td>\n",
       "      <td>standard</td>\n",
       "      <td>completed</td>\n",
       "      <td>80</td>\n",
       "      <td>78</td>\n",
       "      <td>81</td>\n",
       "      <td>239</td>\n",
       "    </tr>\n",
       "    <tr>\n",
       "      <th>464</th>\n",
       "      <td>male</td>\n",
       "      <td>group A</td>\n",
       "      <td>bachelor's degree</td>\n",
       "      <td>standard</td>\n",
       "      <td>completed</td>\n",
       "      <td>75</td>\n",
       "      <td>58</td>\n",
       "      <td>62</td>\n",
       "      <td>195</td>\n",
       "    </tr>\n",
       "    <tr>\n",
       "      <th>539</th>\n",
       "      <td>male</td>\n",
       "      <td>group A</td>\n",
       "      <td>associate's degree</td>\n",
       "      <td>standard</td>\n",
       "      <td>completed</td>\n",
       "      <td>97</td>\n",
       "      <td>92</td>\n",
       "      <td>86</td>\n",
       "      <td>275</td>\n",
       "    </tr>\n",
       "    <tr>\n",
       "      <th>653</th>\n",
       "      <td>female</td>\n",
       "      <td>group A</td>\n",
       "      <td>associate's degree</td>\n",
       "      <td>standard</td>\n",
       "      <td>completed</td>\n",
       "      <td>65</td>\n",
       "      <td>70</td>\n",
       "      <td>74</td>\n",
       "      <td>209</td>\n",
       "    </tr>\n",
       "    <tr>\n",
       "      <th>702</th>\n",
       "      <td>male</td>\n",
       "      <td>group A</td>\n",
       "      <td>bachelor's degree</td>\n",
       "      <td>standard</td>\n",
       "      <td>completed</td>\n",
       "      <td>87</td>\n",
       "      <td>84</td>\n",
       "      <td>87</td>\n",
       "      <td>258</td>\n",
       "    </tr>\n",
       "  </tbody>\n",
       "</table>\n",
       "</div>"
      ],
      "text/plain": [
       "     gender race/ethnicity parental level of education     lunch  \\\n",
       "46   female        group A          associate's degree  standard   \n",
       "77     male        group A           bachelor's degree  standard   \n",
       "464    male        group A           bachelor's degree  standard   \n",
       "539    male        group A          associate's degree  standard   \n",
       "653  female        group A          associate's degree  standard   \n",
       "702    male        group A           bachelor's degree  standard   \n",
       "\n",
       "    test preparation course  math score  reading score  writing score  \\\n",
       "46                completed          55             65             62   \n",
       "77                completed          80             78             81   \n",
       "464               completed          75             58             62   \n",
       "539               completed          97             92             86   \n",
       "653               completed          65             70             74   \n",
       "702               completed          87             84             87   \n",
       "\n",
       "     overall score  \n",
       "46             182  \n",
       "77             239  \n",
       "464            195  \n",
       "539            275  \n",
       "653            209  \n",
       "702            258  "
      ]
     },
     "execution_count": 278,
     "metadata": {},
     "output_type": "execute_result"
    }
   ],
   "source": [
    "#filter to show student's with all advantageous factors\n",
    "\n",
    "category_B = exams[(exams['race/ethnicity']== \"group A\")&(exams['parental level of education']== \"associate's degree\")&\n",
    "                     (exams['test preparation course'] == 'completed')&(exams['lunch'] == 'standard')|\n",
    "                    (exams['race/ethnicity']== \"group A\")&(exams['parental level of education']== \"master's degree\")&\n",
    "                     (exams['test preparation course'] == 'completed')&(exams['lunch'] == 'standard')|\n",
    "                    (exams['race/ethnicity']== \"group A\")&(exams['parental level of education']== \"bachelor's degree\")&\n",
    "                     (exams['test preparation course'] == 'completed')&(exams['lunch'] == 'standard')]\n",
    "category_B"
   ]
  },
  {
   "cell_type": "markdown",
   "id": "8497c66d",
   "metadata": {},
   "source": [
    "Comparing the overall score of category_A to category_B shows:\n",
    "\n",
    "•\tThat 4 out of 10 students scored below 150 in category_A. A further 2 scored below 170.\n",
    "\n",
    "•\tOnly 3 students scored above 180 in category_A.\n",
    "\n",
    "•\tAll students (6) in category_B scored above 180.\n"
   ]
  },
  {
   "cell_type": "markdown",
   "id": "d6a07f51",
   "metadata": {},
   "source": [
    "# 7. Group E"
   ]
  },
  {
   "cell_type": "code",
   "execution_count": 185,
   "id": "d954a7d0",
   "metadata": {},
   "outputs": [
    {
     "name": "stdout",
     "output_type": "stream",
     "text": [
      "Number of students in group E: 140\n"
     ]
    }
   ],
   "source": [
    "#filter database to only students in group E\n",
    "\n",
    "group_E = exams[(exams['race/ethnicity']== \"group E\")]\n",
    "#group_E\n",
    "print(f\"Number of students in group E: {len(group_E.axes[0])}\")\n"
   ]
  },
  {
   "cell_type": "code",
   "execution_count": 188,
   "id": "ca2ec1ad",
   "metadata": {},
   "outputs": [],
   "source": [
    "#filter data further to only show group E students whose parents education level is high school\n",
    "\n",
    "group_E_highschool = exams[(exams['race/ethnicity']== \"group E\")&(exams['parental level of education'] == \"high school\")]"
   ]
  },
  {
   "cell_type": "code",
   "execution_count": 189,
   "id": "153ac395",
   "metadata": {},
   "outputs": [
    {
     "name": "stdout",
     "output_type": "stream",
     "text": [
      "Number of students in group E and whose parental level of education is high school: 22\n"
     ]
    }
   ],
   "source": [
    "#number of students in this group\n",
    "\n",
    "print(f\"Number of students in group E and whose parental level of education is high school: {len(group_E_highschool.axes[0])}\")"
   ]
  },
  {
   "cell_type": "code",
   "execution_count": 190,
   "id": "dd7b4b93",
   "metadata": {},
   "outputs": [
    {
     "data": {
      "text/html": [
       "<div>\n",
       "<style scoped>\n",
       "    .dataframe tbody tr th:only-of-type {\n",
       "        vertical-align: middle;\n",
       "    }\n",
       "\n",
       "    .dataframe tbody tr th {\n",
       "        vertical-align: top;\n",
       "    }\n",
       "\n",
       "    .dataframe thead th {\n",
       "        text-align: right;\n",
       "    }\n",
       "</style>\n",
       "<table border=\"1\" class=\"dataframe\">\n",
       "  <thead>\n",
       "    <tr style=\"text-align: right;\">\n",
       "      <th></th>\n",
       "      <th>math score</th>\n",
       "      <th>reading score</th>\n",
       "      <th>writing score</th>\n",
       "      <th>overall score: highschool</th>\n",
       "    </tr>\n",
       "    <tr>\n",
       "      <th>race/ethnicity</th>\n",
       "      <th></th>\n",
       "      <th></th>\n",
       "      <th></th>\n",
       "      <th></th>\n",
       "    </tr>\n",
       "  </thead>\n",
       "  <tbody>\n",
       "    <tr>\n",
       "      <th>group E</th>\n",
       "      <td>71.0</td>\n",
       "      <td>70.0</td>\n",
       "      <td>68.0</td>\n",
       "      <td>209.0</td>\n",
       "    </tr>\n",
       "  </tbody>\n",
       "</table>\n",
       "</div>"
      ],
      "text/plain": [
       "                math score  reading score  writing score  \\\n",
       "race/ethnicity                                             \n",
       "group E               71.0           70.0           68.0   \n",
       "\n",
       "                overall score: highschool  \n",
       "race/ethnicity                             \n",
       "group E                             209.0  "
      ]
     },
     "execution_count": 190,
     "metadata": {},
     "output_type": "execute_result"
    }
   ],
   "source": [
    "#this group's average scores\n",
    "\n",
    "group_by = group_E_highschool.groupby(by=['race/ethnicity'])\n",
    "data_avg_highschool = round(group_by.mean(),0)\n",
    "\n",
    "#changed column name to identify easier: https://www.geeksforgeeks.org/how-to-rename-columns-in-pandas-dataframe/ \n",
    "\n",
    "data_avg_highschool.rename(columns = {'overall score':'overall score: highschool'}, inplace = True)\n",
    "data_avg_highschool"
   ]
  },
  {
   "cell_type": "markdown",
   "id": "5cccde4e",
   "metadata": {},
   "source": [
    "The average overall score for students whose parental education level is high school is 209."
   ]
  },
  {
   "cell_type": "code",
   "execution_count": 193,
   "id": "9162efe7",
   "metadata": {},
   "outputs": [],
   "source": [
    "#filter data further to only show group E students whose parents education level is some high school\n",
    "\n",
    "group_E_Shighschool = exams[(exams['race/ethnicity']== \"group E\")&(exams['parental level of education'] == \"some high school\")]"
   ]
  },
  {
   "cell_type": "code",
   "execution_count": 194,
   "id": "2a691152",
   "metadata": {},
   "outputs": [
    {
     "name": "stdout",
     "output_type": "stream",
     "text": [
      "Number of students in group E and whose parental level of education is some high school: 18\n"
     ]
    }
   ],
   "source": [
    "#number of students in this group\n",
    "\n",
    "print(f\"Number of students in group E and whose parental level of education is some high school: {len(group_E_Shighschool.axes[0])}\")"
   ]
  },
  {
   "cell_type": "code",
   "execution_count": 195,
   "id": "0babb8fd",
   "metadata": {},
   "outputs": [
    {
     "data": {
      "text/html": [
       "<div>\n",
       "<style scoped>\n",
       "    .dataframe tbody tr th:only-of-type {\n",
       "        vertical-align: middle;\n",
       "    }\n",
       "\n",
       "    .dataframe tbody tr th {\n",
       "        vertical-align: top;\n",
       "    }\n",
       "\n",
       "    .dataframe thead th {\n",
       "        text-align: right;\n",
       "    }\n",
       "</style>\n",
       "<table border=\"1\" class=\"dataframe\">\n",
       "  <thead>\n",
       "    <tr style=\"text-align: right;\">\n",
       "      <th></th>\n",
       "      <th>math score</th>\n",
       "      <th>reading score</th>\n",
       "      <th>writing score</th>\n",
       "      <th>overall score: some highschool</th>\n",
       "    </tr>\n",
       "    <tr>\n",
       "      <th>race/ethnicity</th>\n",
       "      <th></th>\n",
       "      <th></th>\n",
       "      <th></th>\n",
       "      <th></th>\n",
       "    </tr>\n",
       "  </thead>\n",
       "  <tbody>\n",
       "    <tr>\n",
       "      <th>group E</th>\n",
       "      <td>72.0</td>\n",
       "      <td>70.0</td>\n",
       "      <td>67.0</td>\n",
       "      <td>208.0</td>\n",
       "    </tr>\n",
       "  </tbody>\n",
       "</table>\n",
       "</div>"
      ],
      "text/plain": [
       "                math score  reading score  writing score  \\\n",
       "race/ethnicity                                             \n",
       "group E               72.0           70.0           67.0   \n",
       "\n",
       "                overall score: some highschool  \n",
       "race/ethnicity                                  \n",
       "group E                                  208.0  "
      ]
     },
     "execution_count": 195,
     "metadata": {},
     "output_type": "execute_result"
    }
   ],
   "source": [
    "#this group's average scores\n",
    "\n",
    "group_by = group_E_Shighschool.groupby(by=['race/ethnicity'])\n",
    "data_avg_Shighschool = round(group_by.mean(),0)\n",
    "data_avg_Shighschool.rename(columns = {'overall score':'overall score: some highschool'}, inplace = True)\n",
    "data_avg_Shighschool"
   ]
  },
  {
   "cell_type": "markdown",
   "id": "3375d6dd",
   "metadata": {},
   "source": [
    "The average overall score for students whose parental education level is some high school is 208."
   ]
  },
  {
   "cell_type": "code",
   "execution_count": 198,
   "id": "f216f735",
   "metadata": {},
   "outputs": [],
   "source": [
    "#filter data further to only show group E students whose parents education level is some college\n",
    "\n",
    "group_E_Scollege = exams[(exams['race/ethnicity']== \"group E\")&(exams['parental level of education'] == \"some college\")]"
   ]
  },
  {
   "cell_type": "code",
   "execution_count": 199,
   "id": "96d23fc0",
   "metadata": {},
   "outputs": [
    {
     "name": "stdout",
     "output_type": "stream",
     "text": [
      "Number of students in group E and whose parental level of education is some college: 35\n"
     ]
    }
   ],
   "source": [
    "#number of students in this group\n",
    "\n",
    "print(f\"Number of students in group E and whose parental level of education is some college: {len(group_E_Scollege.axes[0])}\")"
   ]
  },
  {
   "cell_type": "code",
   "execution_count": 200,
   "id": "4e22e37e",
   "metadata": {},
   "outputs": [
    {
     "data": {
      "text/html": [
       "<div>\n",
       "<style scoped>\n",
       "    .dataframe tbody tr th:only-of-type {\n",
       "        vertical-align: middle;\n",
       "    }\n",
       "\n",
       "    .dataframe tbody tr th {\n",
       "        vertical-align: top;\n",
       "    }\n",
       "\n",
       "    .dataframe thead th {\n",
       "        text-align: right;\n",
       "    }\n",
       "</style>\n",
       "<table border=\"1\" class=\"dataframe\">\n",
       "  <thead>\n",
       "    <tr style=\"text-align: right;\">\n",
       "      <th></th>\n",
       "      <th>math score</th>\n",
       "      <th>reading score</th>\n",
       "      <th>writing score</th>\n",
       "      <th>overall score: some college</th>\n",
       "    </tr>\n",
       "    <tr>\n",
       "      <th>race/ethnicity</th>\n",
       "      <th></th>\n",
       "      <th></th>\n",
       "      <th></th>\n",
       "      <th></th>\n",
       "    </tr>\n",
       "  </thead>\n",
       "  <tbody>\n",
       "    <tr>\n",
       "      <th>group E</th>\n",
       "      <td>74.0</td>\n",
       "      <td>73.0</td>\n",
       "      <td>70.0</td>\n",
       "      <td>217.0</td>\n",
       "    </tr>\n",
       "  </tbody>\n",
       "</table>\n",
       "</div>"
      ],
      "text/plain": [
       "                math score  reading score  writing score  \\\n",
       "race/ethnicity                                             \n",
       "group E               74.0           73.0           70.0   \n",
       "\n",
       "                overall score: some college  \n",
       "race/ethnicity                               \n",
       "group E                               217.0  "
      ]
     },
     "execution_count": 200,
     "metadata": {},
     "output_type": "execute_result"
    }
   ],
   "source": [
    "#this group's average scores\n",
    "\n",
    "group_by = group_E_Scollege.groupby(by=['race/ethnicity'])\n",
    "data_avg_Scollege = round(group_by.mean(),0)\n",
    "data_avg_Scollege.rename(columns = {'overall score':'overall score: some college'}, inplace = True)\n",
    "data_avg_Scollege"
   ]
  },
  {
   "cell_type": "markdown",
   "id": "26c7ae7b",
   "metadata": {},
   "source": [
    "The average overall score for students whose parental education level is some college is 217."
   ]
  },
  {
   "cell_type": "code",
   "execution_count": 202,
   "id": "72305510",
   "metadata": {},
   "outputs": [],
   "source": [
    "#filter data further to only show group E students whose parents education level is college\n",
    "\n",
    "group_E_college = exams[(exams['race/ethnicity']== \"group E\")&(exams['parental level of education'] == \"associate's degree\")|\n",
    "                       (exams['race/ethnicity']== \"group E\")&(exams['parental level of education'] == \"master's degree\")|\n",
    "                        (exams['race/ethnicity']== \"group E\")&(exams['parental level of education'] == \"bachelor's degree\")]"
   ]
  },
  {
   "cell_type": "code",
   "execution_count": 203,
   "id": "20259254",
   "metadata": {},
   "outputs": [
    {
     "name": "stdout",
     "output_type": "stream",
     "text": [
      "Number of students in group E and whose parental level of education is college: 65\n"
     ]
    }
   ],
   "source": [
    "#number of students in this group\n",
    "\n",
    "print(f\"Number of students in group E and whose parental level of education is college: {len(group_E_college.axes[0])}\")"
   ]
  },
  {
   "cell_type": "code",
   "execution_count": 204,
   "id": "7c24b7ab",
   "metadata": {},
   "outputs": [
    {
     "data": {
      "text/html": [
       "<div>\n",
       "<style scoped>\n",
       "    .dataframe tbody tr th:only-of-type {\n",
       "        vertical-align: middle;\n",
       "    }\n",
       "\n",
       "    .dataframe tbody tr th {\n",
       "        vertical-align: top;\n",
       "    }\n",
       "\n",
       "    .dataframe thead th {\n",
       "        text-align: right;\n",
       "    }\n",
       "</style>\n",
       "<table border=\"1\" class=\"dataframe\">\n",
       "  <thead>\n",
       "    <tr style=\"text-align: right;\">\n",
       "      <th></th>\n",
       "      <th>math score</th>\n",
       "      <th>reading score</th>\n",
       "      <th>writing score</th>\n",
       "      <th>overall score: college</th>\n",
       "    </tr>\n",
       "    <tr>\n",
       "      <th>race/ethnicity</th>\n",
       "      <th></th>\n",
       "      <th></th>\n",
       "      <th></th>\n",
       "      <th></th>\n",
       "    </tr>\n",
       "  </thead>\n",
       "  <tbody>\n",
       "    <tr>\n",
       "      <th>group E</th>\n",
       "      <td>75.0</td>\n",
       "      <td>75.0</td>\n",
       "      <td>75.0</td>\n",
       "      <td>225.0</td>\n",
       "    </tr>\n",
       "  </tbody>\n",
       "</table>\n",
       "</div>"
      ],
      "text/plain": [
       "                math score  reading score  writing score  \\\n",
       "race/ethnicity                                             \n",
       "group E               75.0           75.0           75.0   \n",
       "\n",
       "                overall score: college  \n",
       "race/ethnicity                          \n",
       "group E                          225.0  "
      ]
     },
     "execution_count": 204,
     "metadata": {},
     "output_type": "execute_result"
    }
   ],
   "source": [
    "#this group's average scores\n",
    "\n",
    "group_by = group_E_college.groupby(by=['race/ethnicity'])\n",
    "data_avg_college = round(group_by.mean(),0)\n",
    "data_avg_college.rename(columns = {'overall score':'overall score: college'}, inplace = True)\n",
    "data_avg_college"
   ]
  },
  {
   "cell_type": "markdown",
   "id": "3a1c68bf",
   "metadata": {},
   "source": [
    "The average overall score for students whose parental education level is college is 225."
   ]
  },
  {
   "cell_type": "code",
   "execution_count": 246,
   "id": "bc690f58",
   "metadata": {},
   "outputs": [
    {
     "data": {
      "text/plain": [
       "<AxesSubplot:>"
      ]
     },
     "execution_count": 246,
     "metadata": {},
     "output_type": "execute_result"
    },
    {
     "data": {
      "image/png": "[encoded data removed]",
      "text/plain": [
       "<Figure size 640x480 with 1 Axes>"
      ]
     },
     "metadata": {},
     "output_type": "display_data"
    }
   ],
   "source": [
    "#created temp database to create a chart which shows each education level's overall score in group E\n",
    "\n",
    "highschool = data_avg_highschool['overall score: highschool']\n",
    "some_highschool = data_avg_Shighschool['overall score: some highschool']\n",
    "some_college = data_avg_Scollege['overall score: some college']\n",
    "college = data_avg_college['overall score: college']\n",
    "\n",
    "temp_df = (some_highschool, highschool, some_college, college)\n",
    "temp_df = pd.DataFrame(temp_df)\n",
    "temp_df.plot(kind='bar')"
   ]
  },
  {
   "cell_type": "markdown",
   "id": "b67a25a6",
   "metadata": {},
   "source": [
    "Bar chart shows that within group E, the higher the parents’ education the higher the student’s overall score."
   ]
  },
  {
   "cell_type": "code",
   "execution_count": null,
   "id": "fb733ddf",
   "metadata": {},
   "outputs": [],
   "source": [
    "#filter data to only show those in group E with lunch options\n",
    "\n",
    "group_E = exams[(exams['race/ethnicity']== \"group E\")&(exams['lunch'] == 'free/reduced')|\n",
    "               (exams['race/ethnicity']== \"group E\")&(exams['lunch'] == 'standard')]"
   ]
  },
  {
   "cell_type": "code",
   "execution_count": 254,
   "id": "d7b80943",
   "metadata": {},
   "outputs": [
    {
     "data": {
      "text/plain": [
       "<AxesSubplot:>"
      ]
     },
     "execution_count": 254,
     "metadata": {},
     "output_type": "execute_result"
    },
    {
     "data": {
      "image/png": "[encoded data removed]",
      "text/plain": [
       "<Figure size 640x480 with 1 Axes>"
      ]
     },
     "metadata": {},
     "output_type": "display_data"
    }
   ],
   "source": [
    "#histogram comparing overall score of those in group E who did recieve a free/reduced lunch\n",
    "\n",
    "a = exams[(exams['race/ethnicity']== \"group E\")&(exams['lunch'] == 'free/reduced')]\n",
    "b = exams[(exams['race/ethnicity']== \"group E\")&(exams['lunch'] == 'standard')]\n",
    "b['overall score'].hist()\n",
    "a['overall score'].hist()\n",
    "#blue == b and orange == a"
   ]
  },
  {
   "cell_type": "markdown",
   "id": "08debd53",
   "metadata": {},
   "source": [
    "By comparing students’ lunch status, it can be shown that students with a standard lunch scored higher than students with a free/reduced lunch."
   ]
  },
  {
   "cell_type": "code",
   "execution_count": 248,
   "id": "8cfaf636",
   "metadata": {},
   "outputs": [],
   "source": [
    "#filter data to only show those in group A with test preparation course\n",
    "\n",
    "group_A = exams[(exams['race/ethnicity']== \"group A\")&(exams['test preparation course'] == 'none')|\n",
    "               (exams['race/ethnicity']== \"group A\")&(exams['test preparation course'] == 'completed')]"
   ]
  },
  {
   "cell_type": "code",
   "execution_count": 280,
   "id": "5c2aa4d5",
   "metadata": {},
   "outputs": [
    {
     "data": {
      "text/plain": [
       "<AxesSubplot:>"
      ]
     },
     "execution_count": 280,
     "metadata": {},
     "output_type": "execute_result"
    },
    {
     "data": {
      "image/png": "[encoded data removed]",
      "text/plain": [
       "<Figure size 640x480 with 1 Axes>"
      ]
     },
     "metadata": {},
     "output_type": "display_data"
    }
   ],
   "source": [
    "#histogram comparing overall score of those in group E who did and did not complete the test preparation course\n",
    "\n",
    "c = exams[(exams['race/ethnicity']== \"group A\")&(exams['test preparation course'] == 'none')]\n",
    "d = exams[(exams['race/ethnicity']== \"group A\")&(exams['test preparation course'] == 'completed')]\n",
    "c['overall score'].hist()\n",
    "d['overall score'].hist()\n",
    "#blue == c and orange == d"
   ]
  },
  {
   "cell_type": "markdown",
   "id": "3ba5c583",
   "metadata": {},
   "source": [
    "A histogram shows that if you didn’t complete the test preparation course you were more likely to score below 150 overall and if you did complete the course, you were more likely to score above 250.\n",
    "\n",
    "Again, the middle scores do not seem to be affected by whether or not you completed the test preparation course."
   ]
  },
  {
   "cell_type": "code",
   "execution_count": 281,
   "id": "e1adebee",
   "metadata": {},
   "outputs": [
    {
     "data": {
      "text/html": [
       "<div>\n",
       "<style scoped>\n",
       "    .dataframe tbody tr th:only-of-type {\n",
       "        vertical-align: middle;\n",
       "    }\n",
       "\n",
       "    .dataframe tbody tr th {\n",
       "        vertical-align: top;\n",
       "    }\n",
       "\n",
       "    .dataframe thead th {\n",
       "        text-align: right;\n",
       "    }\n",
       "</style>\n",
       "<table border=\"1\" class=\"dataframe\">\n",
       "  <thead>\n",
       "    <tr style=\"text-align: right;\">\n",
       "      <th></th>\n",
       "      <th>gender</th>\n",
       "      <th>race/ethnicity</th>\n",
       "      <th>parental level of education</th>\n",
       "      <th>lunch</th>\n",
       "      <th>test preparation course</th>\n",
       "      <th>math score</th>\n",
       "      <th>reading score</th>\n",
       "      <th>writing score</th>\n",
       "      <th>overall score</th>\n",
       "    </tr>\n",
       "  </thead>\n",
       "  <tbody>\n",
       "    <tr>\n",
       "      <th>383</th>\n",
       "      <td>female</td>\n",
       "      <td>group E</td>\n",
       "      <td>some high school</td>\n",
       "      <td>free/reduced</td>\n",
       "      <td>none</td>\n",
       "      <td>38</td>\n",
       "      <td>49</td>\n",
       "      <td>45</td>\n",
       "      <td>132</td>\n",
       "    </tr>\n",
       "    <tr>\n",
       "      <th>786</th>\n",
       "      <td>female</td>\n",
       "      <td>group E</td>\n",
       "      <td>some high school</td>\n",
       "      <td>free/reduced</td>\n",
       "      <td>none</td>\n",
       "      <td>72</td>\n",
       "      <td>79</td>\n",
       "      <td>77</td>\n",
       "      <td>228</td>\n",
       "    </tr>\n",
       "    <tr>\n",
       "      <th>895</th>\n",
       "      <td>female</td>\n",
       "      <td>group E</td>\n",
       "      <td>some high school</td>\n",
       "      <td>free/reduced</td>\n",
       "      <td>none</td>\n",
       "      <td>32</td>\n",
       "      <td>34</td>\n",
       "      <td>38</td>\n",
       "      <td>104</td>\n",
       "    </tr>\n",
       "    <tr>\n",
       "      <th>952</th>\n",
       "      <td>female</td>\n",
       "      <td>group E</td>\n",
       "      <td>some high school</td>\n",
       "      <td>free/reduced</td>\n",
       "      <td>none</td>\n",
       "      <td>74</td>\n",
       "      <td>74</td>\n",
       "      <td>72</td>\n",
       "      <td>220</td>\n",
       "    </tr>\n",
       "  </tbody>\n",
       "</table>\n",
       "</div>"
      ],
      "text/plain": [
       "     gender race/ethnicity parental level of education         lunch  \\\n",
       "383  female        group E            some high school  free/reduced   \n",
       "786  female        group E            some high school  free/reduced   \n",
       "895  female        group E            some high school  free/reduced   \n",
       "952  female        group E            some high school  free/reduced   \n",
       "\n",
       "    test preparation course  math score  reading score  writing score  \\\n",
       "383                    none          38             49             45   \n",
       "786                    none          72             79             77   \n",
       "895                    none          32             34             38   \n",
       "952                    none          74             74             72   \n",
       "\n",
       "     overall score  \n",
       "383            132  \n",
       "786            228  \n",
       "895            104  \n",
       "952            220  "
      ]
     },
     "execution_count": 281,
     "metadata": {},
     "output_type": "execute_result"
    }
   ],
   "source": [
    "#filter to show student's with all disadvantageous factors\n",
    "\n",
    "category_C = exams[(exams['race/ethnicity']== \"group E\")&(exams['parental level of education']== \"some high school\")&\n",
    "                     (exams['test preparation course'] == 'none')&(exams['lunch'] == 'free/reduced')]\n",
    "category_C"
   ]
  },
  {
   "cell_type": "code",
   "execution_count": 282,
   "id": "26532fb0",
   "metadata": {},
   "outputs": [
    {
     "data": {
      "text/html": [
       "<div>\n",
       "<style scoped>\n",
       "    .dataframe tbody tr th:only-of-type {\n",
       "        vertical-align: middle;\n",
       "    }\n",
       "\n",
       "    .dataframe tbody tr th {\n",
       "        vertical-align: top;\n",
       "    }\n",
       "\n",
       "    .dataframe thead th {\n",
       "        text-align: right;\n",
       "    }\n",
       "</style>\n",
       "<table border=\"1\" class=\"dataframe\">\n",
       "  <thead>\n",
       "    <tr style=\"text-align: right;\">\n",
       "      <th></th>\n",
       "      <th>gender</th>\n",
       "      <th>race/ethnicity</th>\n",
       "      <th>parental level of education</th>\n",
       "      <th>lunch</th>\n",
       "      <th>test preparation course</th>\n",
       "      <th>math score</th>\n",
       "      <th>reading score</th>\n",
       "      <th>writing score</th>\n",
       "      <th>overall score</th>\n",
       "    </tr>\n",
       "  </thead>\n",
       "  <tbody>\n",
       "    <tr>\n",
       "      <th>35</th>\n",
       "      <td>male</td>\n",
       "      <td>group E</td>\n",
       "      <td>associate's degree</td>\n",
       "      <td>standard</td>\n",
       "      <td>completed</td>\n",
       "      <td>81</td>\n",
       "      <td>81</td>\n",
       "      <td>79</td>\n",
       "      <td>241</td>\n",
       "    </tr>\n",
       "    <tr>\n",
       "      <th>56</th>\n",
       "      <td>female</td>\n",
       "      <td>group E</td>\n",
       "      <td>associate's degree</td>\n",
       "      <td>standard</td>\n",
       "      <td>completed</td>\n",
       "      <td>82</td>\n",
       "      <td>85</td>\n",
       "      <td>86</td>\n",
       "      <td>253</td>\n",
       "    </tr>\n",
       "    <tr>\n",
       "      <th>107</th>\n",
       "      <td>male</td>\n",
       "      <td>group E</td>\n",
       "      <td>associate's degree</td>\n",
       "      <td>standard</td>\n",
       "      <td>completed</td>\n",
       "      <td>66</td>\n",
       "      <td>63</td>\n",
       "      <td>64</td>\n",
       "      <td>193</td>\n",
       "    </tr>\n",
       "    <tr>\n",
       "      <th>114</th>\n",
       "      <td>female</td>\n",
       "      <td>group E</td>\n",
       "      <td>bachelor's degree</td>\n",
       "      <td>standard</td>\n",
       "      <td>completed</td>\n",
       "      <td>99</td>\n",
       "      <td>100</td>\n",
       "      <td>100</td>\n",
       "      <td>299</td>\n",
       "    </tr>\n",
       "    <tr>\n",
       "      <th>286</th>\n",
       "      <td>male</td>\n",
       "      <td>group E</td>\n",
       "      <td>associate's degree</td>\n",
       "      <td>standard</td>\n",
       "      <td>completed</td>\n",
       "      <td>97</td>\n",
       "      <td>82</td>\n",
       "      <td>88</td>\n",
       "      <td>267</td>\n",
       "    </tr>\n",
       "    <tr>\n",
       "      <th>297</th>\n",
       "      <td>male</td>\n",
       "      <td>group E</td>\n",
       "      <td>associate's degree</td>\n",
       "      <td>standard</td>\n",
       "      <td>completed</td>\n",
       "      <td>71</td>\n",
       "      <td>74</td>\n",
       "      <td>68</td>\n",
       "      <td>213</td>\n",
       "    </tr>\n",
       "    <tr>\n",
       "      <th>332</th>\n",
       "      <td>male</td>\n",
       "      <td>group E</td>\n",
       "      <td>associate's degree</td>\n",
       "      <td>standard</td>\n",
       "      <td>completed</td>\n",
       "      <td>62</td>\n",
       "      <td>56</td>\n",
       "      <td>53</td>\n",
       "      <td>171</td>\n",
       "    </tr>\n",
       "    <tr>\n",
       "      <th>476</th>\n",
       "      <td>male</td>\n",
       "      <td>group E</td>\n",
       "      <td>bachelor's degree</td>\n",
       "      <td>standard</td>\n",
       "      <td>completed</td>\n",
       "      <td>76</td>\n",
       "      <td>62</td>\n",
       "      <td>66</td>\n",
       "      <td>204</td>\n",
       "    </tr>\n",
       "    <tr>\n",
       "      <th>503</th>\n",
       "      <td>female</td>\n",
       "      <td>group E</td>\n",
       "      <td>associate's degree</td>\n",
       "      <td>standard</td>\n",
       "      <td>completed</td>\n",
       "      <td>95</td>\n",
       "      <td>89</td>\n",
       "      <td>92</td>\n",
       "      <td>276</td>\n",
       "    </tr>\n",
       "    <tr>\n",
       "      <th>532</th>\n",
       "      <td>male</td>\n",
       "      <td>group E</td>\n",
       "      <td>associate's degree</td>\n",
       "      <td>standard</td>\n",
       "      <td>completed</td>\n",
       "      <td>62</td>\n",
       "      <td>61</td>\n",
       "      <td>58</td>\n",
       "      <td>181</td>\n",
       "    </tr>\n",
       "    <tr>\n",
       "      <th>533</th>\n",
       "      <td>female</td>\n",
       "      <td>group E</td>\n",
       "      <td>associate's degree</td>\n",
       "      <td>standard</td>\n",
       "      <td>completed</td>\n",
       "      <td>79</td>\n",
       "      <td>88</td>\n",
       "      <td>94</td>\n",
       "      <td>261</td>\n",
       "    </tr>\n",
       "    <tr>\n",
       "      <th>538</th>\n",
       "      <td>male</td>\n",
       "      <td>group E</td>\n",
       "      <td>bachelor's degree</td>\n",
       "      <td>standard</td>\n",
       "      <td>completed</td>\n",
       "      <td>85</td>\n",
       "      <td>66</td>\n",
       "      <td>71</td>\n",
       "      <td>222</td>\n",
       "    </tr>\n",
       "    <tr>\n",
       "      <th>685</th>\n",
       "      <td>female</td>\n",
       "      <td>group E</td>\n",
       "      <td>master's degree</td>\n",
       "      <td>standard</td>\n",
       "      <td>completed</td>\n",
       "      <td>94</td>\n",
       "      <td>99</td>\n",
       "      <td>100</td>\n",
       "      <td>293</td>\n",
       "    </tr>\n",
       "    <tr>\n",
       "      <th>700</th>\n",
       "      <td>female</td>\n",
       "      <td>group E</td>\n",
       "      <td>bachelor's degree</td>\n",
       "      <td>standard</td>\n",
       "      <td>completed</td>\n",
       "      <td>79</td>\n",
       "      <td>81</td>\n",
       "      <td>82</td>\n",
       "      <td>242</td>\n",
       "    </tr>\n",
       "    <tr>\n",
       "      <th>726</th>\n",
       "      <td>female</td>\n",
       "      <td>group E</td>\n",
       "      <td>associate's degree</td>\n",
       "      <td>standard</td>\n",
       "      <td>completed</td>\n",
       "      <td>65</td>\n",
       "      <td>75</td>\n",
       "      <td>77</td>\n",
       "      <td>217</td>\n",
       "    </tr>\n",
       "    <tr>\n",
       "      <th>779</th>\n",
       "      <td>male</td>\n",
       "      <td>group E</td>\n",
       "      <td>associate's degree</td>\n",
       "      <td>standard</td>\n",
       "      <td>completed</td>\n",
       "      <td>94</td>\n",
       "      <td>85</td>\n",
       "      <td>82</td>\n",
       "      <td>261</td>\n",
       "    </tr>\n",
       "    <tr>\n",
       "      <th>881</th>\n",
       "      <td>female</td>\n",
       "      <td>group E</td>\n",
       "      <td>bachelor's degree</td>\n",
       "      <td>standard</td>\n",
       "      <td>completed</td>\n",
       "      <td>71</td>\n",
       "      <td>70</td>\n",
       "      <td>70</td>\n",
       "      <td>211</td>\n",
       "    </tr>\n",
       "    <tr>\n",
       "      <th>886</th>\n",
       "      <td>female</td>\n",
       "      <td>group E</td>\n",
       "      <td>associate's degree</td>\n",
       "      <td>standard</td>\n",
       "      <td>completed</td>\n",
       "      <td>93</td>\n",
       "      <td>100</td>\n",
       "      <td>95</td>\n",
       "      <td>288</td>\n",
       "    </tr>\n",
       "    <tr>\n",
       "      <th>909</th>\n",
       "      <td>male</td>\n",
       "      <td>group E</td>\n",
       "      <td>bachelor's degree</td>\n",
       "      <td>standard</td>\n",
       "      <td>completed</td>\n",
       "      <td>70</td>\n",
       "      <td>64</td>\n",
       "      <td>70</td>\n",
       "      <td>204</td>\n",
       "    </tr>\n",
       "    <tr>\n",
       "      <th>916</th>\n",
       "      <td>male</td>\n",
       "      <td>group E</td>\n",
       "      <td>bachelor's degree</td>\n",
       "      <td>standard</td>\n",
       "      <td>completed</td>\n",
       "      <td>100</td>\n",
       "      <td>100</td>\n",
       "      <td>100</td>\n",
       "      <td>300</td>\n",
       "    </tr>\n",
       "    <tr>\n",
       "      <th>995</th>\n",
       "      <td>female</td>\n",
       "      <td>group E</td>\n",
       "      <td>master's degree</td>\n",
       "      <td>standard</td>\n",
       "      <td>completed</td>\n",
       "      <td>88</td>\n",
       "      <td>99</td>\n",
       "      <td>95</td>\n",
       "      <td>282</td>\n",
       "    </tr>\n",
       "  </tbody>\n",
       "</table>\n",
       "</div>"
      ],
      "text/plain": [
       "     gender race/ethnicity parental level of education     lunch  \\\n",
       "35     male        group E          associate's degree  standard   \n",
       "56   female        group E          associate's degree  standard   \n",
       "107    male        group E          associate's degree  standard   \n",
       "114  female        group E           bachelor's degree  standard   \n",
       "286    male        group E          associate's degree  standard   \n",
       "297    male        group E          associate's degree  standard   \n",
       "332    male        group E          associate's degree  standard   \n",
       "476    male        group E           bachelor's degree  standard   \n",
       "503  female        group E          associate's degree  standard   \n",
       "532    male        group E          associate's degree  standard   \n",
       "533  female        group E          associate's degree  standard   \n",
       "538    male        group E           bachelor's degree  standard   \n",
       "685  female        group E             master's degree  standard   \n",
       "700  female        group E           bachelor's degree  standard   \n",
       "726  female        group E          associate's degree  standard   \n",
       "779    male        group E          associate's degree  standard   \n",
       "881  female        group E           bachelor's degree  standard   \n",
       "886  female        group E          associate's degree  standard   \n",
       "909    male        group E           bachelor's degree  standard   \n",
       "916    male        group E           bachelor's degree  standard   \n",
       "995  female        group E             master's degree  standard   \n",
       "\n",
       "    test preparation course  math score  reading score  writing score  \\\n",
       "35                completed          81             81             79   \n",
       "56                completed          82             85             86   \n",
       "107               completed          66             63             64   \n",
       "114               completed          99            100            100   \n",
       "286               completed          97             82             88   \n",
       "297               completed          71             74             68   \n",
       "332               completed          62             56             53   \n",
       "476               completed          76             62             66   \n",
       "503               completed          95             89             92   \n",
       "532               completed          62             61             58   \n",
       "533               completed          79             88             94   \n",
       "538               completed          85             66             71   \n",
       "685               completed          94             99            100   \n",
       "700               completed          79             81             82   \n",
       "726               completed          65             75             77   \n",
       "779               completed          94             85             82   \n",
       "881               completed          71             70             70   \n",
       "886               completed          93            100             95   \n",
       "909               completed          70             64             70   \n",
       "916               completed         100            100            100   \n",
       "995               completed          88             99             95   \n",
       "\n",
       "     overall score  \n",
       "35             241  \n",
       "56             253  \n",
       "107            193  \n",
       "114            299  \n",
       "286            267  \n",
       "297            213  \n",
       "332            171  \n",
       "476            204  \n",
       "503            276  \n",
       "532            181  \n",
       "533            261  \n",
       "538            222  \n",
       "685            293  \n",
       "700            242  \n",
       "726            217  \n",
       "779            261  \n",
       "881            211  \n",
       "886            288  \n",
       "909            204  \n",
       "916            300  \n",
       "995            282  "
      ]
     },
     "execution_count": 282,
     "metadata": {},
     "output_type": "execute_result"
    }
   ],
   "source": [
    "#filter to show student's with all advantageous factors\n",
    "\n",
    "category_D = exams[(exams['race/ethnicity']== \"group E\")&(exams['parental level of education']== \"associate's degree\")&\n",
    "                     (exams['test preparation course'] == 'completed')&(exams['lunch'] == 'standard')|\n",
    "                    (exams['race/ethnicity']== \"group E\")&(exams['parental level of education']== \"master's degree\")&\n",
    "                     (exams['test preparation course'] == 'completed')&(exams['lunch'] == 'standard')|\n",
    "                    (exams['race/ethnicity']== \"group E\")&(exams['parental level of education']== \"bachelor's degree\")&\n",
    "                     (exams['test preparation course'] == 'completed')&(exams['lunch'] == 'standard')]\n",
    "category_D"
   ]
  },
  {
   "cell_type": "markdown",
   "id": "97399eaa",
   "metadata": {},
   "source": [
    "Comparing the overall score of category_C to category_D shows:\n",
    "\n",
    "•\tThere are only four students who fall into category C.\n",
    "\n",
    "•\t2 of those students scored above 200 and the other 2 scored below 150.\n",
    "\n",
    "•\tThere are 21 students who fall into category D.\n",
    "\n",
    "•\tOnly 3 score below 200. The other students scored above 200.\n",
    "\n",
    "•\t1 student in category D scored 300. (100%)"
   ]
  },
  {
   "cell_type": "markdown",
   "id": "0c564640",
   "metadata": {},
   "source": [
    "# 8. Assumptions"
   ]
  },
  {
   "cell_type": "markdown",
   "id": "3a90c206",
   "metadata": {},
   "source": [
    "The most influencing factor of a student’s score in order:\n",
    "\n",
    "1.\tRace/Ethnicity\n",
    "2.\tParental education level\n",
    "3.\tLunch\n",
    "4.\tTest preparation course\n"
   ]
  },
  {
   "cell_type": "code",
   "execution_count": null,
   "id": "265e8ade",
   "metadata": {},
   "outputs": [],
   "source": []
  }
 ],
 "metadata": {
  "kernelspec": {
   "display_name": "Python 3 (ipykernel)",
   "language": "python",
   "name": "python3"
  },
  "language_info": {
   "codemirror_mode": {
    "name": "ipython",
    "version": 3
   },
   "file_extension": ".py",
   "mimetype": "text/x-python",
   "name": "python",
   "nbconvert_exporter": "python",
   "pygments_lexer": "ipython3",
   "version": "3.9.13"
  }
 },
 "nbformat": 4,
 "nbformat_minor": 5
}
